{
 "cells": [
  {
   "cell_type": "code",
   "execution_count": 3,
   "metadata": {},
   "outputs": [
    {
     "name": "stdout",
     "output_type": "stream",
     "text": [
      "2017-12-01T22:41:37+01:00\n",
      "\n",
      "CPython 3.6.3\n",
      "IPython 6.2.1\n",
      "\n",
      "compiler   : MSC v.1900 64 bit (AMD64)\n",
      "system     : Windows\n",
      "release    : 10\n",
      "machine    : AMD64\n",
      "processor  : Intel64 Family 6 Model 60 Stepping 3, GenuineIntel\n",
      "CPU cores  : 4\n",
      "interpreter: 64bit\n"
     ]
    }
   ],
   "source": [
    "\n",
    "%load_ext watermark\n",
    "%watermark"
   ]
  },
  {
   "cell_type": "markdown",
   "metadata": {},
   "source": [
    "# --- Day 1: Inverse Captcha ---"
   ]
  },
  {
   "cell_type": "markdown",
   "metadata": {},
   "source": [
    "## --- Part One ---\n",
    "\n",
    "The night before Christmas, one of Santa's Elves calls you in a panic. \"The printer's broken! We can't print the Naughty or Nice List!\" By the time you make it to sub-basement 17, there are only a few minutes until midnight. \"We have a big problem,\" she says; \"there must be almost fifty bugs in this system, but nothing else can print The List. Stand in this square, quick! There's no time to explain; if you can convince them to pay you in stars, you'll be able to--\" She pulls a lever and the world goes blurry.\n",
    "\n",
    "When your eyes can focus again, everything seems a lot more pixelated than before. She must have sent you inside the computer! You check the system clock: 25 milliseconds until midnight. With that much time, you should be able to collect all fifty stars by December 25th.\n",
    "\n",
    "Collect stars by solving puzzles. Two puzzles will be made available on each day millisecond in the advent calendar; the second puzzle is unlocked when you complete the first. Each puzzle grants one star. Good luck!\n",
    "\n",
    "You're standing in a room with \"digitization quarantine\" written in LEDs along one wall. The only door is locked, but it includes a small interface. \"Restricted Area - Strictly No Digitized Users Allowed.\"\n",
    "\n",
    "It goes on to explain that you may only leave by solving a captcha to prove you're not a human. Apparently, you only get one millisecond to solve the captcha: too fast for a normal human, but it feels like hours to you.\n",
    "\n",
    "The captcha requires you to review a sequence of digits (your puzzle input) and find the sum of all digits that match the next digit in the list. The list is circular, so the digit after the last digit is the first digit in the list.\n",
    "\n",
    "For example:\n",
    "\n",
    "* 1122 produces a sum of 3 (1 + 2) because the first digit (1) matches the second digit and the third digit (2) matches the fourth digit.\n",
    "\n",
    "* 1111 produces 4 because each digit (all 1) matches the next.\n",
    "\n",
    "* 1234 produces 0 because no digit matches the next.\n",
    "\n",
    "* 91212129 produces 9 because the only digit that matches the next one is the last digit, 9.\n",
    "\n",
    "\n",
    "What is the solution to your captcha?"
   ]
  },
  {
   "cell_type": "code",
   "execution_count": 4,
   "metadata": {},
   "outputs": [],
   "source": [
    "puzzle_input2 = \"3893445835429722678558456317563893861752455542588369533636585887178232467588827193173595918648538852463974393264428538856739259399322741844613957229674619566966921656443476317729968764183945899765294481327998956154956571467872487576314549468261122281384513266834769436913544431258253346374641589492728885222652146158261225296144835682556133922436438188211288458692217737145834468534829945993366314375465767468939773939978272968388546791547526366348163672162245585168892858977723516752284597322176349412485116173844733679871253985762643852151748396593275274582481295864991886985988427966155944392352248314629138972358467959614279553511247863869663526823326467571462371663396188951696286916979923587358992127741723727623235238531991996999181976664226274715591531566495345212849683589582225465555847312199122268773923175183128124556249916458878785361322713513153175157855597289482439449732469754748544437553251412476225415932478849961897299721228198262823515159848941742786272262236888514421279147329383465929358896761449135917829473321834267122759371247338155787774952626616791265889922959653887288735233291968146648533754958199821789499914763279869931218136266492627818972334549751282191883558361871277375851259751294611921756927694394977764633932938573132221389861617195291742156362494769521829599476753198422283287735888197584327719697758442462886311961723849326959213928195182293316227334998926839139915138472514686689887874559367524254175582135318545912361877139367538434683933333264146289842238921989275112323681356256979576948644489986951538689949884787173194457523474156229389465725473817651516136514446513436419126533875125645855223921197481833434658264655912731133356464193251635637423222227273192628825165993827511625956856754776849919858414375874943572889154281862749595896438581889424559988914658387293414662361364793844213298677236787998677166743945812899526292132465751582925131262933636228593134861363493849168168765261647652342891576445292462341171477487223253795935253493869317616741963486473\""
   ]
  },
  {
   "cell_type": "code",
   "execution_count": null,
   "metadata": {},
   "outputs": [],
   "source": []
  },
  {
   "cell_type": "code",
   "execution_count": 5,
   "metadata": {},
   "outputs": [],
   "source": [
    "mysum=0\n",
    "if puzzle_input2[0] == puzzle_input2[-1]:\n",
    "    mysum = int(puzzle_input2[0]) #+ int(puzzle_input2[-1])\n",
    "    \n",
    "for i in range (len(puzzle_input2)-1):\n",
    "    current = 0\n",
    "    if puzzle_input2[i] == puzzle_input2[i+1]:\n",
    "        current = int(puzzle_input2[i])\n",
    "        mysum += current\n",
    "        i+=1"
   ]
  },
  {
   "cell_type": "code",
   "execution_count": 6,
   "metadata": {},
   "outputs": [
    {
     "data": {
      "text/plain": [
       "1177"
      ]
     },
     "execution_count": 6,
     "metadata": {},
     "output_type": "execute_result"
    }
   ],
   "source": [
    "mysum"
   ]
  },
  {
   "cell_type": "markdown",
   "metadata": {},
   "source": [
    "## --- Part Two ---\n",
    "\n",
    "You notice a progress bar that jumps to 50% completion. Apparently, the door isn't yet satisfied, but it did emit a star as encouragement. The instructions change:\n",
    "\n",
    "Now, instead of considering the next digit, it wants you to consider the digit halfway around the circular list. That is, if your list contains 10 items, only include a digit in your sum if the digit 10/2 = 5 steps forward matches it. Fortunately, your list has an even number of elements.\n",
    "\n",
    "For example:\n",
    "\n",
    "* 1212 produces 6: the list contains 4 items, and all four digits match the digit 2 items ahead.\n",
    "* 1221 produces 0, because every comparison is between a 1 and a 2.\n",
    "* 123425 produces 4, because both 2s match each other, but no other digit has a match.\n",
    "* 123123 produces 12.\n",
    "* 12131415 produces 4.\n",
    "\n",
    "What is the solution to your new captcha?"
   ]
  },
  {
   "cell_type": "code",
   "execution_count": 7,
   "metadata": {},
   "outputs": [],
   "source": [
    "lst = \"3893445835429722678558456317563893861752455542588369533636585887178232467588827193173595918648538852463974393264428538856739259399322741844613957229674619566966921656443476317729968764183945899765294481327998956154956571467872487576314549468261122281384513266834769436913544431258253346374641589492728885222652146158261225296144835682556133922436438188211288458692217737145834468534829945993366314375465767468939773939978272968388546791547526366348163672162245585168892858977723516752284597322176349412485116173844733679871253985762643852151748396593275274582481295864991886985988427966155944392352248314629138972358467959614279553511247863869663526823326467571462371663396188951696286916979923587358992127741723727623235238531991996999181976664226274715591531566495345212849683589582225465555847312199122268773923175183128124556249916458878785361322713513153175157855597289482439449732469754748544437553251412476225415932478849961897299721228198262823515159848941742786272262236888514421279147329383465929358896761449135917829473321834267122759371247338155787774952626616791265889922959653887288735233291968146648533754958199821789499914763279869931218136266492627818972334549751282191883558361871277375851259751294611921756927694394977764633932938573132221389861617195291742156362494769521829599476753198422283287735888197584327719697758442462886311961723849326959213928195182293316227334998926839139915138472514686689887874559367524254175582135318545912361877139367538434683933333264146289842238921989275112323681356256979576948644489986951538689949884787173194457523474156229389465725473817651516136514446513436419126533875125645855223921197481833434658264655912731133356464193251635637423222227273192628825165993827511625956856754776849919858414375874943572889154281862749595896438581889424559988914658387293414662361364793844213298677236787998677166743945812899526292132465751582925131262933636228593134861363493849168168765261647652342891576445292462341171477487223253795935253493869317616741963486473\""
   ]
  },
  {
   "cell_type": "code",
   "execution_count": 8,
   "metadata": {},
   "outputs": [],
   "source": [
    "pivot = len(lst)//2\n",
    "first_half = lst[:pivot]\n",
    "second_half = lst[pivot:]\n",
    "\n",
    "mysum= 0\n",
    "result = 0\n",
    "\n",
    "# test cases with repeatable blocks\n",
    "if first_half == second_half:\n",
    "    for i in first_half:\n",
    "        mysum+=int(i)\n",
    "    mysum = mysum*2\n",
    "else:\n",
    "    pairs = list(zip(first_half, second_half))\n",
    "#     print(pairs)\n",
    "    for i in pairs:\n",
    "#         print(i)\n",
    "        if i[0] == i[1]:\n",
    "            mysum += int(i[0])+int(i[1])\n",
    "#             print(mysum)"
   ]
  },
  {
   "cell_type": "code",
   "execution_count": 9,
   "metadata": {},
   "outputs": [
    {
     "name": "stdout",
     "output_type": "stream",
     "text": [
      "1060\n"
     ]
    }
   ],
   "source": [
    "print(mysum)"
   ]
  },
  {
   "cell_type": "markdown",
   "metadata": {},
   "source": [
    "Both parts of this puzzle are complete! They provide two gold stars: **\n",
    "\n",
    "At this point, you should return to your advent calendar and try another puzzle."
   ]
  },
  {
   "cell_type": "markdown",
   "metadata": {},
   "source": [
    "# --- Day 2: Corruption Checksum ---\n",
    "\n",
    "## --- Part One ---\n",
    "\n",
    "As you walk through the door, a glowing humanoid shape yells in your direction. \"You there! Your state appears to be idle. Come help us repair the corruption in this spreadsheet - if we take another millisecond, we'll have to display an hourglass cursor!\"\n",
    "\n",
    "The spreadsheet consists of rows of apparently-random numbers. To make sure the recovery process is on the right track, they need you to calculate the spreadsheet's checksum. For each row, determine the difference between the largest value and the smallest value; the checksum is the sum of all of these differences.\n",
    "\n",
    "For example, given the following spreadsheet:\n",
    "\n",
    "```\n",
    "5 1 9 5\n",
    "7 5 3\n",
    "2 4 6 8\n",
    "```\n",
    "\n",
    "The first row's largest and smallest values are 9 and 1, and their difference is 8.\n",
    "The second row's largest and smallest values are 7 and 3, and their difference is 4.\n",
    "The third row's difference is 6.\n",
    "In this example, the spreadsheet's checksum would be 8 + 4 + 6 = 18.\n",
    "\n",
    "What is the checksum for the spreadsheet in your puzzle input?"
   ]
  },
  {
   "cell_type": "markdown",
   "metadata": {},
   "source": [
    "```\n",
    "116\t1470\t2610\t179\t2161\t2690\t831\t1824\t2361\t1050\t2201\t118\t145\t2275\t2625\t2333\n",
    "976\t220\t1129\t553\t422\t950\t332\t204\t1247\t1092\t1091\t159\t174\t182\t984\t713\n",
    "84\t78\t773\t62\t808\t83\t1125\t1110\t1184\t145\t1277\t982\t338\t1182\t75\t679\n",
    "3413\t3809\t3525\t2176\t141\t1045\t2342\t2183\t157\t3960\t3084\t2643\t119\t108\t3366\t2131\n",
    "1312\t205\t343\t616\t300\t1098\t870\t1008\t1140\t1178\t90\t146\t980\t202\t190\t774\n",
    "4368\t3905\t3175\t4532\t3806\t1579\t4080\t259\t2542\t221\t4395\t4464\t208\t3734\t234\t4225\n",
    "741\t993\t1184\t285\t1062\t372\t111\t118\t63\t843\t325\t132\t854\t105\t956\t961\n",
    "85\t79\t84\t2483\t858\t2209\t2268\t90\t2233\t1230\t2533\t322\t338\t68\t2085\t1267\n",
    "2688\t2022\t112\t130\t1185\t103\t1847\t3059\t911\t107\t2066\t1788\t2687\t2633\t415\t1353\n",
    "76\t169\t141\t58\t161\t66\t65\t225\t60\t152\t62\t64\t156\t199\t80\t56\n",
    "220\t884\t1890\t597\t3312\t593\t4259\t222\t113\t2244\t3798\t4757\t216\t1127\t4400\t178\n",
    "653\t369\t216\t132\t276\t102\t265\t889\t987\t236\t239\t807\t1076\t932\t84\t864\n",
    "799\t739\t75\t1537\t82\t228\t69\t1397\t1396\t1203\t1587\t63\t313\t1718\t1375\t469\n",
    "1176\t112\t1407\t136\t1482\t1534\t1384\t1202\t604\t851\t190\t284\t1226\t113\t114\t687\n",
    "73\t1620\t81\t1137\t812\t75\t1326\t1355\t1545\t1666\t1356\t1681\t1732\t85\t128\t902\n",
    "571\t547\t160\t237\t256\t30\t496\t592\t385\t576\t183\t692\t192\t387\t647\t233\n",
    "```"
   ]
  },
  {
   "cell_type": "code",
   "execution_count": null,
   "metadata": {},
   "outputs": [],
   "source": [
    "# 116\t1470\t2610\t179\t2161\t2690\t831\t1824\t2361\t1050\t2201\t118\t145\t2275\t2625\t2333\n",
    "# 976\t220\t1129\t553\t422\t950\t332\t204\t1247\t1092\t1091\t159\t174\t182\t984\t713\n",
    "# 84\t78\t773\t62\t808\t83\t1125\t1110\t1184\t145\t1277\t982\t338\t1182\t75\t679\n",
    "# 3413\t3809\t3525\t2176\t141\t1045\t2342\t2183\t157\t3960\t3084\t2643\t119\t108\t3366\t2131\n",
    "# 1312\t205\t343\t616\t300\t1098\t870\t1008\t1140\t1178\t90\t146\t980\t202\t190\t774\n",
    "# 4368\t3905\t3175\t4532\t3806\t1579\t4080\t259\t2542\t221\t4395\t4464\t208\t3734\t234\t4225\n",
    "# 741\t993\t1184\t285\t1062\t372\t111\t118\t63\t843\t325\t132\t854\t105\t956\t961\n",
    "# 85\t79\t84\t2483\t858\t2209\t2268\t90\t2233\t1230\t2533\t322\t338\t68\t2085\t1267\n",
    "# 2688\t2022\t112\t130\t1185\t103\t1847\t3059\t911\t107\t2066\t1788\t2687\t2633\t415\t1353\n",
    "# 76\t169\t141\t58\t161\t66\t65\t225\t60\t152\t62\t64\t156\t199\t80\t56\n",
    "# 220\t884\t1890\t597\t3312\t593\t4259\t222\t113\t2244\t3798\t4757\t216\t1127\t4400\t178\n",
    "# 653\t369\t216\t132\t276\t102\t265\t889\t987\t236\t239\t807\t1076\t932\t84\t864\n",
    "# 799\t739\t75\t1537\t82\t228\t69\t1397\t1396\t1203\t1587\t63\t313\t1718\t1375\t469\n",
    "# 1176\t112\t1407\t136\t1482\t1534\t1384\t1202\t604\t851\t190\t284\t1226\t113\t114\t687\n",
    "# 73\t1620\t81\t1137\t812\t75\t1326\t1355\t1545\t1666\t1356\t1681\t1732\t85\t128\t902\n",
    "# 571\t547\t160\t237\t256\t30\t496\t592\t385\t576\t183\t692\t192\t387\t647\t233"
   ]
  },
  {
   "cell_type": "code",
   "execution_count": 28,
   "metadata": {},
   "outputs": [],
   "source": [
    "import numpy as np"
   ]
  },
  {
   "cell_type": "code",
   "execution_count": 101,
   "metadata": {},
   "outputs": [],
   "source": [
    "data  = np.genfromtxt(\"day2.txt\", delimiter=\"\\t\", dtype=\"int32\")\n",
    "\n",
    "res = np.sum([row.max()-row.min() for row in data])"
   ]
  },
  {
   "cell_type": "code",
   "execution_count": 102,
   "metadata": {},
   "outputs": [
    {
     "data": {
      "text/plain": [
       "32020"
      ]
     },
     "execution_count": 102,
     "metadata": {},
     "output_type": "execute_result"
    }
   ],
   "source": [
    "res"
   ]
  },
  {
   "cell_type": "markdown",
   "metadata": {},
   "source": [
    "## --- Part Two ---\n",
    "\n",
    "\"Great work; looks like we're on the right track after all. Here's a star for your effort.\" However, the program seems a little worried. Can programs be worried?\n",
    "\n",
    "\"Based on what we're seeing, it looks like all the User wanted is some information about the evenly divisible values in the spreadsheet. Unfortunately, none of us are equipped for that kind of calculation - most of us specialize in bitwise operations.\"\n",
    "\n",
    "It sounds like the goal is to find the only two numbers in each row where one evenly divides the other - that is, where the result of the division operation is a whole number. They would like you to find those numbers on each line, divide them, and add up each line's result.\n",
    "\n",
    "For example, given the following spreadsheet:\n",
    "\n",
    "```\n",
    "5 9 2 8\n",
    "9 4 7 3\n",
    "3 8 6 5\n",
    "```\n",
    "\n",
    "In the first row, the only two numbers that evenly divide are 8 and 2; the result of this division is 4.\n",
    "In the second row, the two numbers are 9 and 3; the result is 3.\n",
    "In the third row, the result is 2.\n",
    "In this example, the sum of the results would be 4 + 3 + 2 = 9.\n",
    "\n",
    "What is the sum of each row's result in your puzzle input?"
   ]
  },
  {
   "cell_type": "code",
   "execution_count": 136,
   "metadata": {},
   "outputs": [],
   "source": [
    "from itertools import permutations"
   ]
  },
  {
   "cell_type": "code",
   "execution_count": 182,
   "metadata": {},
   "outputs": [
    {
     "data": {
      "text/plain": [
       "array([[ 116, 1470, 2610,  179, 2161, 2690,  831, 1824, 2361, 1050, 2201,\n",
       "         118,  145, 2275, 2625, 2333],\n",
       "       [ 976,  220, 1129,  553,  422,  950,  332,  204, 1247, 1092, 1091,\n",
       "         159,  174,  182,  984,  713],\n",
       "       [  84,   78,  773,   62,  808,   83, 1125, 1110, 1184,  145, 1277,\n",
       "         982,  338, 1182,   75,  679],\n",
       "       [3413, 3809, 3525, 2176,  141, 1045, 2342, 2183,  157, 3960, 3084,\n",
       "        2643,  119,  108, 3366, 2131],\n",
       "       [1312,  205,  343,  616,  300, 1098,  870, 1008, 1140, 1178,   90,\n",
       "         146,  980,  202,  190,  774],\n",
       "       [4368, 3905, 3175, 4532, 3806, 1579, 4080,  259, 2542,  221, 4395,\n",
       "        4464,  208, 3734,  234, 4225],\n",
       "       [ 741,  993, 1184,  285, 1062,  372,  111,  118,   63,  843,  325,\n",
       "         132,  854,  105,  956,  961],\n",
       "       [  85,   79,   84, 2483,  858, 2209, 2268,   90, 2233, 1230, 2533,\n",
       "         322,  338,   68, 2085, 1267],\n",
       "       [2688, 2022,  112,  130, 1185,  103, 1847, 3059,  911,  107, 2066,\n",
       "        1788, 2687, 2633,  415, 1353],\n",
       "       [  76,  169,  141,   58,  161,   66,   65,  225,   60,  152,   62,\n",
       "          64,  156,  199,   80,   56],\n",
       "       [ 220,  884, 1890,  597, 3312,  593, 4259,  222,  113, 2244, 3798,\n",
       "        4757,  216, 1127, 4400,  178],\n",
       "       [ 653,  369,  216,  132,  276,  102,  265,  889,  987,  236,  239,\n",
       "         807, 1076,  932,   84,  864],\n",
       "       [ 799,  739,   75, 1537,   82,  228,   69, 1397, 1396, 1203, 1587,\n",
       "          63,  313, 1718, 1375,  469],\n",
       "       [1176,  112, 1407,  136, 1482, 1534, 1384, 1202,  604,  851,  190,\n",
       "         284, 1226,  113,  114,  687],\n",
       "       [  73, 1620,   81, 1137,  812,   75, 1326, 1355, 1545, 1666, 1356,\n",
       "        1681, 1732,   85,  128,  902],\n",
       "       [ 571,  547,  160,  237,  256,   30,  496,  592,  385,  576,  183,\n",
       "         692,  192,  387,  647,  233]])"
      ]
     },
     "execution_count": 182,
     "metadata": {},
     "output_type": "execute_result"
    }
   ],
   "source": [
    "data"
   ]
  },
  {
   "cell_type": "code",
   "execution_count": 183,
   "metadata": {},
   "outputs": [],
   "source": [
    "permut = [permutations(row, 2) for row in data]"
   ]
  },
  {
   "cell_type": "code",
   "execution_count": 184,
   "metadata": {},
   "outputs": [
    {
     "name": "stdout",
     "output_type": "stream",
     "text": [
      "236.0\n"
     ]
    }
   ],
   "source": [
    "mysum = 0\n",
    "for gen in permut:\n",
    "    for pair in gen:\n",
    "        diff = pair[0]/pair[1]\n",
    "        if diff.is_integer():\n",
    "            mysum+=diff\n",
    "            \n",
    "        \n",
    "print(mysum)"
   ]
  }
 ],
 "metadata": {
  "kernelspec": {
   "display_name": "Python 3",
   "language": "python",
   "name": "python3"
  },
  "language_info": {
   "codemirror_mode": {
    "name": "ipython",
    "version": 3
   },
   "file_extension": ".py",
   "mimetype": "text/x-python",
   "name": "python",
   "nbconvert_exporter": "python",
   "pygments_lexer": "ipython3",
   "version": "3.6.3"
  }
 },
 "nbformat": 4,
 "nbformat_minor": 2
}
