{
 "cells": [
  {
   "cell_type": "markdown",
   "metadata": {},
   "source": [
    "# Excersize\n",
    "\n",
    "Develop algorithm to clasify language of the document, for e.g:\n",
    "\n",
    "* 1000 samples of EN\n",
    "* 1000 samples of DE\n",
    "* 1000 samples x FR\n",
    "\n",
    "After that you are getting a document in one of those languages:\n",
    "\n",
    "1 x ??\n",
    "Your task is to classify the language of the document."
   ]
  },
  {
   "cell_type": "markdown",
   "metadata": {},
   "source": [
    "# Answer"
   ]
  },
  {
   "cell_type": "markdown",
   "metadata": {},
   "source": [
    "## Problem analysis\n",
    "\n",
    "I am dealing with classification problem within supervised learning domain. Known sets of publications compose labeled data which language is known. Most important in such pipelines is text data preprocessing. This determines algorithm learning speed and accuracy. In general very popular method is based on counting words or letters frequency in the studied text. \n",
    "\n",
    "Unlike structured, numeric or categorical data, text processing is far more challenging in context of pre-processing and normalizing as well as feature extraction and engineering. Without normalization process feature extraction will not work, leading to poor model training data and poor model performance. Therefore preprocessing part is a key element in each text analysis task.\n",
    "\n",
    "Furthermore I would like to discuss method of identifying specific language. Unlike topic modeling, when one needs to dive deep into the text and check most relevant words and try to classify them, minimizing information loss, identifying language may be best to be done using all preparation techniques, which try to strip texts from language characteristic elements. Therefore it may be quite  efficient way to identify language:\n",
    "\n",
    "* stop words (most common words in a language) - most natural and naive approach\n",
    "* train deep neural net using all above characteristics (stop words, special characters, most popular characters) as additional features for the algorithm.\n"
   ]
  },
  {
   "cell_type": "markdown",
   "metadata": {},
   "source": [
    "## Tools"
   ]
  },
  {
   "cell_type": "markdown",
   "metadata": {},
   "source": [
    "Python library, which allows to work on text is NLTK (Natural Language Tool Kit). To start work with t some preparations may be necessary (for examle downloading specific language data). \n",
    "\n",
    "For standard data pre-processing procedures I will use scikit-learn library.\n",
    "\n",
    "For designing nerual network I will use keras and tensorflow as a backend. To visualize Deep Neural Network I use pydot and keras utilities.\n",
    "\n",
    "To visualize progress I will use matplotlib for basic 2D plots."
   ]
  },
  {
   "cell_type": "code",
   "execution_count": null,
   "metadata": {},
   "outputs": [],
   "source": [
    "## Insdtall NLTK and other tools\n",
    "# Some of them should be already part of Anaconda bundle\n",
    "!conda install -c conda-forge --yes nltk numpy matplotlib scikit-learn tensorflow keras, pydot"
   ]
  },
  {
   "cell_type": "code",
   "execution_count": null,
   "metadata": {},
   "outputs": [],
   "source": [
    "import nltk\n",
    "\n",
    "# Download NLTK datasets to process different languages\n",
    "nltk.download('popular', halt_on_error=False)"
   ]
  },
  {
   "cell_type": "code",
   "execution_count": null,
   "metadata": {},
   "outputs": [],
   "source": [
    "# I would like to install some training data set, for instance European Parliament Proceedings Parallel Corpus\n",
    "# http://www.statmt.org/europarl/\n",
    "nltk.download('europarl_raw', halt_on_error=False)"
   ]
  },
  {
   "cell_type": "markdown",
   "metadata": {},
   "source": [
    "## Text data\n",
    "\n",
    "In the example text data were virtual collections of large amount of documents for three speciffic language. I would like to procure more substantial numerical experiment, therefore will use publicly accessible data set (already downloaded). I will use single book for each language from Project Gutenberg and see how specific method works.\n",
    "\n",
    "I have chosen fragments of following books:\n",
    "\n",
    "* EN: Mark Twain Adventures of Huckleberry Finn\n",
    "* FR: Victor Hugo LES MISÉRABLES\n",
    "* DE: Thomas Mann Der Tod in Venedig"
   ]
  },
  {
   "cell_type": "markdown",
   "metadata": {},
   "source": [
    "# Building solutions"
   ]
  },
  {
   "cell_type": "markdown",
   "metadata": {},
   "source": [
    "## Stop words approach\n",
    "\n",
    "What I will do is calculate stop words frequency for each language, using downloaded books I can assume, that they will be fair sample for each language, therefore there is no need to use EU dataset.\n",
    "I have data set with known labels (I know which documents are en, fr or de). I will use list of stop words provided by NLTK library to calculate frequency of each language stop words in my documents. Highest mark means highest probability.. Once "
   ]
  },
  {
   "cell_type": "code",
   "execution_count": 1,
   "metadata": {},
   "outputs": [],
   "source": [
    "def read_book(file):\n",
    "    with open(file, 'r', encoding=\"utf-8\") as f:\n",
    "        book = f.read()\n",
    "        return book"
   ]
  },
  {
   "cell_type": "code",
   "execution_count": 2,
   "metadata": {},
   "outputs": [],
   "source": [
    "languages_dict = {'english':0,'french':1,'german':2}"
   ]
  },
  {
   "cell_type": "code",
   "execution_count": 3,
   "metadata": {},
   "outputs": [],
   "source": [
    "de = read_book('de.txt')\n",
    "fr = read_book('fr.txt')\n",
    "en = read_book('en.txt')"
   ]
  },
  {
   "cell_type": "code",
   "execution_count": 4,
   "metadata": {},
   "outputs": [],
   "source": [
    "# Lets prepare Identifier class\n",
    "class LanguageIdentifier:\n",
    "    \n",
    "    def __init__(self, text):\n",
    "        self.text = text\n",
    "        self.stop_words = self.get_stop_words()\n",
    "        self.words = self.tokenize()\n",
    "        self.language_score = self.get_score()\n",
    "        self.language = self.identify_language()\n",
    "    \n",
    "    def tokenize(self):\n",
    "        try:\n",
    "            import nltk\n",
    "            tokenizer = nltk.word_tokenize\n",
    "            tokens = tokenizer(text=self.text)\n",
    "            words = [word.lower() for word in tokens]\n",
    "            return words\n",
    "        except ImportError as e:\n",
    "            print(\"NLTK must be installed. {}\".format(e))\n",
    "\n",
    "    def get_stop_words(self):\n",
    "        try:\n",
    "            from nltk.corpus import stopwords\n",
    "            return stopwords\n",
    "        except ImportError as e:\n",
    "            print(\"NLTK must be installed. {}\".format(e))\n",
    "            \n",
    "    def get_score(self):\n",
    "        _language_score = {}\n",
    "        for language in self.stop_words.fileids():\n",
    "            stopwords_set = set(self.stop_words.words(language))\n",
    "            words_set = set(self.words)\n",
    "            common_elements = words_set.intersection(stopwords_set)\n",
    "            \n",
    "            _language_score[language] = len(common_elements)\n",
    "        return _language_score\n",
    "    \n",
    "\n",
    "    def identify_language(self):\n",
    "        return max(self.language_score, key=self.language_score.get)"
   ]
  },
  {
   "cell_type": "code",
   "execution_count": 5,
   "metadata": {},
   "outputs": [
    {
     "name": "stdout",
     "output_type": "stream",
     "text": [
      "1.43 s ± 10.5 ms per loop (mean ± std. dev. of 7 runs, 1 loop each)\n",
      "1.8 s ± 16.3 ms per loop (mean ± std. dev. of 7 runs, 1 loop each)\n",
      "398 ms ± 9.07 ms per loop (mean ± std. dev. of 7 runs, 1 loop each)\n"
     ]
    }
   ],
   "source": [
    "%timeit LanguageIdentifier(text=en).identify_language()\n",
    "%timeit LanguageIdentifier(text=fr).identify_language()\n",
    "%timeit LanguageIdentifier(text=de).identify_language()"
   ]
  },
  {
   "cell_type": "code",
   "execution_count": 6,
   "metadata": {},
   "outputs": [
    {
     "name": "stdout",
     "output_type": "stream",
     "text": [
      "english\n",
      "french\n",
      "german\n"
     ]
    }
   ],
   "source": [
    "print(LanguageIdentifier(text=en).identify_language())\n",
    "print(LanguageIdentifier(text=fr).identify_language())\n",
    "print(LanguageIdentifier(text=de).identify_language())"
   ]
  },
  {
   "cell_type": "code",
   "execution_count": 7,
   "metadata": {},
   "outputs": [
    {
     "name": "stdout",
     "output_type": "stream",
     "text": [
      "10.8 ms ± 204 µs per loop (mean ± std. dev. of 7 runs, 100 loops each)\n",
      "10.5 ms ± 67.5 µs per loop (mean ± std. dev. of 7 runs, 100 loops each)\n",
      "10.5 ms ± 133 µs per loop (mean ± std. dev. of 7 runs, 100 loops each)\n"
     ]
    }
   ],
   "source": [
    "%timeit LanguageIdentifier(text=en[:100]).identify_language()\n",
    "%timeit LanguageIdentifier(text=fr[:100]).identify_language()\n",
    "%timeit LanguageIdentifier(text=de[:100]).identify_language()"
   ]
  },
  {
   "cell_type": "code",
   "execution_count": 8,
   "metadata": {},
   "outputs": [
    {
     "name": "stdout",
     "output_type": "stream",
     "text": [
      "english\n",
      "french\n",
      "german\n"
     ]
    }
   ],
   "source": [
    "print(LanguageIdentifier(text=en[:100]).identify_language())\n",
    "print(LanguageIdentifier(text=fr[:100]).identify_language())\n",
    "print(LanguageIdentifier(text=de[:100]).identify_language())"
   ]
  },
  {
   "cell_type": "markdown",
   "metadata": {},
   "source": [
    "## Summary of stop-words\n",
    "\n",
    "PROS:\n",
    "\n",
    "1. No model to train\n",
    "2. Works with small samples\n",
    "3. Very short pore-processing\n",
    "4. Simple\n",
    "\n",
    "CONS:\n",
    "1. Pretty slow for large samples\n",
    "2. May be completely inaccurate in case of languages sharing some stop words. All examples here are quite distinct.\n",
    "3. No metrics regarding accuracy"
   ]
  },
  {
   "cell_type": "markdown",
   "metadata": {},
   "source": [
    "## Neural net approach\n"
   ]
  },
  {
   "cell_type": "markdown",
   "metadata": {},
   "source": [
    "In this example we can use similar approach as in stop words approach, but now, instead of words, I will  count occurrence frequency of all the letters from tested languages alphabets. Assuming I have only 3 languages, I can exactly know which letters can occur in such texts and determine their frequency. This should work also for languages closely related, because they will differ in letters distribution. Then I will feed this features to the Deep Neural Net and train a classifier.\n",
    "\n",
    "To train model I will use three books downloaded from Project Gutenberg, but I will split data for training and test groups."
   ]
  },
  {
   "cell_type": "code",
   "execution_count": 9,
   "metadata": {},
   "outputs": [],
   "source": [
    "letters = {'base_en': 'abcdfeghijklmnopqrstuvwxyz',\n",
    "           'german':'äöüß',\n",
    "           'french': 'àâæçéèêêîïôœùûüÿ'}\n",
    "special_chars = ' !?'"
   ]
  },
  {
   "cell_type": "code",
   "execution_count": 10,
   "metadata": {},
   "outputs": [],
   "source": [
    "# List of all letters , signs for English, French and German\n",
    "class Alphabet:\n",
    "    def __init__(self, kwargs):\n",
    "#         TODO, Instead of dictionary list of files and method to create alphabet out of text\n",
    "        self._chars = kwargs\n",
    "        self._combined_chars_lower = self.combine_chars()\n",
    "        self._combined_chars_upper = self.combine_chars().upper()\n",
    "        self._lower__chars_list = sorted(self.get_lower_chars_list())\n",
    "        self._upper_chars_list = sorted(self.get_upper_chars_list())\n",
    "        self._all_chars_list = self._lower__chars_list + self._upper_chars_list\n",
    "\n",
    "    def combine_chars(self):\n",
    "        _all_chars = ''\n",
    "        for key, val in self._chars.items():\n",
    "            _all_chars += val\n",
    "        _all_chars = sorted(_all_chars)\n",
    "        _all_chars = ''.join([str(char) for char in _all_chars])\n",
    "        return _all_chars\n",
    "    \n",
    "    def get_lower_chars_list(self):\n",
    "        return list(set(list(self._combined_chars_lower.lower())))\n",
    "    \n",
    "    def get_upper_chars_list(self):\n",
    "        return list(set(list(self._combined_chars_upper)))"
   ]
  },
  {
   "cell_type": "code",
   "execution_count": 11,
   "metadata": {},
   "outputs": [],
   "source": [
    "alphabet = Alphabet(letters)"
   ]
  },
  {
   "cell_type": "code",
   "execution_count": 12,
   "metadata": {},
   "outputs": [
    {
     "data": {
      "text/plain": [
       "{'base_en': 'abcdfeghijklmnopqrstuvwxyz',\n",
       " 'german': 'äöüß',\n",
       " 'french': 'àâæçéèêêîïôœùûüÿ'}"
      ]
     },
     "execution_count": 12,
     "metadata": {},
     "output_type": "execute_result"
    }
   ],
   "source": [
    "alphabet._chars"
   ]
  },
  {
   "cell_type": "code",
   "execution_count": 13,
   "metadata": {},
   "outputs": [
    {
     "data": {
      "text/plain": [
       "'abcdefghijklmnopqrstuvwxyzßàâäæçèéêêîïôöùûüüÿœ'"
      ]
     },
     "execution_count": 13,
     "metadata": {},
     "output_type": "execute_result"
    }
   ],
   "source": [
    "alphabet._combined_chars_lower"
   ]
  },
  {
   "cell_type": "code",
   "execution_count": 14,
   "metadata": {},
   "outputs": [
    {
     "data": {
      "text/plain": [
       "'ABCDEFGHIJKLMNOPQRSTUVWXYZSSÀÂÄÆÇÈÉÊÊÎÏÔÖÙÛÜÜŸŒ'"
      ]
     },
     "execution_count": 14,
     "metadata": {},
     "output_type": "execute_result"
    }
   ],
   "source": [
    "alphabet._combined_chars_upper"
   ]
  },
  {
   "cell_type": "code",
   "execution_count": 15,
   "metadata": {},
   "outputs": [
    {
     "name": "stdout",
     "output_type": "stream",
     "text": [
      "['a', 'b', 'c', 'd', 'e', 'f', 'g', 'h', 'i', 'j', 'k', 'l', 'm', 'n', 'o', 'p', 'q', 'r', 's', 't', 'u', 'v', 'w', 'x', 'y', 'z', 'ß', 'à', 'â', 'ä', 'æ', 'ç', 'è', 'é', 'ê', 'î', 'ï', 'ô', 'ö', 'ù', 'û', 'ü', 'ÿ', 'œ']\n",
      "['A', 'B', 'C', 'D', 'E', 'F', 'G', 'H', 'I', 'J', 'K', 'L', 'M', 'N', 'O', 'P', 'Q', 'R', 'S', 'T', 'U', 'V', 'W', 'X', 'Y', 'Z', 'À', 'Â', 'Ä', 'Æ', 'Ç', 'È', 'É', 'Ê', 'Î', 'Ï', 'Ô', 'Ö', 'Ù', 'Û', 'Ü', 'Œ', 'Ÿ']\n",
      "['a', 'b', 'c', 'd', 'e', 'f', 'g', 'h', 'i', 'j', 'k', 'l', 'm', 'n', 'o', 'p', 'q', 'r', 's', 't', 'u', 'v', 'w', 'x', 'y', 'z', 'ß', 'à', 'â', 'ä', 'æ', 'ç', 'è', 'é', 'ê', 'î', 'ï', 'ô', 'ö', 'ù', 'û', 'ü', 'ÿ', 'œ', 'A', 'B', 'C', 'D', 'E', 'F', 'G', 'H', 'I', 'J', 'K', 'L', 'M', 'N', 'O', 'P', 'Q', 'R', 'S', 'T', 'U', 'V', 'W', 'X', 'Y', 'Z', 'À', 'Â', 'Ä', 'Æ', 'Ç', 'È', 'É', 'Ê', 'Î', 'Ï', 'Ô', 'Ö', 'Ù', 'Û', 'Ü', 'Œ', 'Ÿ']\n"
     ]
    }
   ],
   "source": [
    "print(alphabet._lower__chars_list)\n",
    "print(alphabet._upper_chars_list)\n",
    "print(alphabet._all_chars_list)"
   ]
  },
  {
   "cell_type": "markdown",
   "metadata": {},
   "source": [
    "### Red data"
   ]
  },
  {
   "cell_type": "code",
   "execution_count": 16,
   "metadata": {},
   "outputs": [],
   "source": [
    "def read_book(file):\n",
    "    with open(file, 'r', encoding=\"utf-8\") as f:\n",
    "        book = f.read()\n",
    "        return book"
   ]
  },
  {
   "cell_type": "code",
   "execution_count": 17,
   "metadata": {},
   "outputs": [],
   "source": [
    "de = read_book('de.txt')\n",
    "fr = read_book('fr.txt')\n",
    "en = read_book('en.txt')"
   ]
  },
  {
   "cell_type": "markdown",
   "metadata": {},
   "source": [
    "### Clean data"
   ]
  },
  {
   "cell_type": "code",
   "execution_count": 18,
   "metadata": {},
   "outputs": [],
   "source": [
    "import re\n",
    "\n",
    "def remove_newlines(text):\n",
    "    return text.replace('\\n', ' ') \n",
    "\n",
    "def remove_manyspaces(text):\n",
    "    return re.sub(r'\\s+', ' ', text)\n",
    "\n",
    "def clean_non_text(text):\n",
    "    return re.sub(r'^a-zA-Z\\d\\s:', ' ', text)\n",
    "def clean_double_minus(text):\n",
    "    return re.sub(r'(--)+', ' ', text)\n",
    "\n",
    "def clean_text(text):\n",
    "    text = remove_newlines(text)\n",
    "    text = clean_non_text(text)\n",
    "    text = remove_manyspaces(text)\n",
    "    text= clean_double_minus(text)\n",
    "    return text"
   ]
  },
  {
   "cell_type": "code",
   "execution_count": 19,
   "metadata": {},
   "outputs": [],
   "source": [
    "clear_en = clean_text(en)\n",
    "clear_de = clean_text(de)\n",
    "clear_fr = clean_text(fr)"
   ]
  },
  {
   "cell_type": "code",
   "execution_count": 20,
   "metadata": {},
   "outputs": [
    {
     "name": "stdout",
     "output_type": "stream",
     "text": [
      "5859.71\n",
      "1893.0\n",
      "6718.0\n"
     ]
    }
   ],
   "source": [
    "print(len(clear_en)/100)\n",
    "print(len(clear_de)/100)\n",
    "print(len(clear_fr)/100)"
   ]
  },
  {
   "cell_type": "code",
   "execution_count": 21,
   "metadata": {},
   "outputs": [],
   "source": [
    "# Make smaples\n",
    "# Files are books, therefore I skip shuffling the words\n",
    "n=100\n",
    "parts_en = [clear_en[i:i+n] for i in range(0, len(clear_en), n)]\n",
    "parts_de = [clear_de[i:i+n] for i in range(0, len(clear_de), n)]\n",
    "parts_fr = [clear_fr[i:i+n] for i in range(0, len(clear_fr), n)]\n"
   ]
  },
  {
   "cell_type": "markdown",
   "metadata": {},
   "source": [
    "1. Create features space. Our features will be vectors with numbers indicating amount of specific letter in each text sample. We simply iterate text sign, by sign and check how many times specific letter occurred.\n",
    "2. Scale data\n",
    "3. perform PCA"
   ]
  },
  {
   "cell_type": "code",
   "execution_count": 22,
   "metadata": {},
   "outputs": [],
   "source": [
    "def count_chars(text,alphabet, target):\n",
    "    alphabet_counts = []\n",
    "    for letter in alphabet:\n",
    "        count = text.count(letter)\n",
    "        alphabet_counts.append(count)\n",
    "    # Y vector for each sample\n",
    "    alphabet_counts.append(target)\n",
    "    return alphabet_counts"
   ]
  },
  {
   "cell_type": "code",
   "execution_count": 23,
   "metadata": {},
   "outputs": [],
   "source": [
    "languages_dict = {'english':0,'french':1,'german':2}"
   ]
  },
  {
   "cell_type": "code",
   "execution_count": 24,
   "metadata": {},
   "outputs": [],
   "source": [
    "import numpy as np\n",
    "# TODO refactor repeated parts of CODE\n",
    "vectors_de = []\n",
    "for item in parts_de:\n",
    "    count = count_chars(item, alphabet._all_chars_list, 2)\n",
    "    vectors_de.append(count)\n",
    "#     vectors_de.append(2)\n",
    "np_vectors_de = np.array(vectors_de)"
   ]
  },
  {
   "cell_type": "code",
   "execution_count": 25,
   "metadata": {},
   "outputs": [],
   "source": [
    "vectors_en = []\n",
    "for item in parts_en:\n",
    "    count = count_chars(item, alphabet._all_chars_list, 0)\n",
    "    vectors_en.append(count)\n",
    "#     vectors_en.append(0)\n",
    "np_vectors_en = np.array(vectors_en)"
   ]
  },
  {
   "cell_type": "code",
   "execution_count": 26,
   "metadata": {},
   "outputs": [],
   "source": [
    "vectors_fr = []\n",
    "for item in parts_fr:\n",
    "    count = count_chars(item, alphabet._all_chars_list, 1)\n",
    "    vectors_fr.append(count)\n",
    "np_vectors_fr = np.array(vectors_fr)"
   ]
  },
  {
   "cell_type": "code",
   "execution_count": 27,
   "metadata": {},
   "outputs": [
    {
     "name": "stdout",
     "output_type": "stream",
     "text": [
      "(1893, 88)\n",
      "(5860, 88)\n",
      "(6718, 88)\n"
     ]
    }
   ],
   "source": [
    "print(np_vectors_de.shape)\n",
    "print(np_vectors_en.shape)\n",
    "print(np_vectors_fr.shape)"
   ]
  },
  {
   "cell_type": "code",
   "execution_count": 28,
   "metadata": {},
   "outputs": [],
   "source": [
    "# Stack data\n",
    "data = np.concatenate([np_vectors_en, np_vectors_fr, np_vectors_de])"
   ]
  },
  {
   "cell_type": "code",
   "execution_count": 29,
   "metadata": {},
   "outputs": [],
   "source": [
    "# Randomize data rows order, modifies in place\n",
    "np.random.shuffle(data)"
   ]
  },
  {
   "cell_type": "code",
   "execution_count": 31,
   "metadata": {},
   "outputs": [],
   "source": [
    "# Extract features data set and target data set\n",
    "from keras.utils import to_categorical\n",
    "\n",
    "X_data = data[:,0:data.shape[1]-1]\n",
    "Y = data[:,-1]\n",
    "# Y \n",
    "Y_data = to_categorical(Y, num_classes=len(languages_dict))\n",
    "# y_test = keras.utils.to_categorical(np.random.randint(10, size=(100, 1)), num_classes=10)\n"
   ]
  },
  {
   "cell_type": "code",
   "execution_count": 32,
   "metadata": {},
   "outputs": [
    {
     "data": {
      "text/plain": [
       "(14471, 3)"
      ]
     },
     "execution_count": 32,
     "metadata": {},
     "output_type": "execute_result"
    }
   ],
   "source": [
    "Y_data.shape"
   ]
  },
  {
   "cell_type": "code",
   "execution_count": 33,
   "metadata": {},
   "outputs": [
    {
     "data": {
      "text/plain": [
       "(14471, 87)"
      ]
     },
     "execution_count": 33,
     "metadata": {},
     "output_type": "execute_result"
    }
   ],
   "source": [
    "X_data.shape"
   ]
  },
  {
   "cell_type": "code",
   "execution_count": 34,
   "metadata": {},
   "outputs": [
    {
     "name": "stderr",
     "output_type": "stream",
     "text": [
      "C:\\Users\\Alicja\\Anaconda3\\lib\\site-packages\\sklearn\\utils\\validation.py:475: DataConversionWarning: Data with input dtype int32 was converted to float64 by StandardScaler.\n",
      "  warnings.warn(msg, DataConversionWarning)\n"
     ]
    }
   ],
   "source": [
    "# Scale data using scikit-learn preprocessing module.\n",
    "# Standardize features by removing the mean and scaling to unit variance\n",
    "\n",
    "from sklearn.preprocessing import StandardScaler\n",
    "\n",
    "scaler = StandardScaler().fit(X_data)"
   ]
  },
  {
   "cell_type": "code",
   "execution_count": 35,
   "metadata": {},
   "outputs": [
    {
     "name": "stderr",
     "output_type": "stream",
     "text": [
      "C:\\Users\\Alicja\\Anaconda3\\lib\\site-packages\\sklearn\\utils\\validation.py:475: DataConversionWarning: Data with input dtype int32 was converted to float64 by StandardScaler.\n",
      "  warnings.warn(msg, DataConversionWarning)\n"
     ]
    }
   ],
   "source": [
    "X_scaled = scaler.transform(X_data)"
   ]
  },
  {
   "cell_type": "code",
   "execution_count": 36,
   "metadata": {},
   "outputs": [
    {
     "data": {
      "text/plain": [
       "(14471, 87)"
      ]
     },
     "execution_count": 36,
     "metadata": {},
     "output_type": "execute_result"
    }
   ],
   "source": [
    "X_scaled.shape"
   ]
  },
  {
   "cell_type": "code",
   "execution_count": 38,
   "metadata": {},
   "outputs": [
    {
     "data": {
      "image/png": "[encoded data removed]",
      "text/plain": [
       "<Figure size 432x288 with 1 Axes>"
      ]
     },
     "metadata": {},
     "output_type": "display_data"
    }
   ],
   "source": [
    "# Due to large feature space (87 features)\n",
    "# it is good to perform Principle Component Analysis (PCA)\n",
    "# to select most meaningful features to train Neural network\n",
    "from sklearn.decomposition import PCA\n",
    "import matplotlib.pyplot as plt\n",
    "%matplotlib inline\n",
    "\n",
    "pca = PCA().fit(X_scaled)\n",
    "plt.plot(np.cumsum(pca.explained_variance_ratio_))\n",
    "plt.xlabel('number of components')\n",
    "plt.ylabel('cumulative explained variance')\n",
    "plt.grid()\n",
    "plt.show()"
   ]
  },
  {
   "cell_type": "markdown",
   "metadata": {},
   "source": [
    "It appears I need Around 70 features. We shall see how PCA influenced time of training. I will perform two parallel DNN trainings and compare them."
   ]
  },
  {
   "cell_type": "code",
   "execution_count": 39,
   "metadata": {},
   "outputs": [],
   "source": [
    "# Prepare training and test data sets\n",
    "from sklearn.model_selection import train_test_split\n",
    "\n",
    "X_train, X_test, y_train, y_test = train_test_split(X_scaled, Y_data, test_size=0.2,\n",
    "                                                    random_state=1, \n",
    "                                                    stratify=Y_data)\n"
   ]
  },
  {
   "cell_type": "markdown",
   "metadata": {},
   "source": [
    "### Modeling (algorithm training)\n",
    "\n",
    "TIme to create Deep Neural Net to be used to train classifier. I am using Keras wrapper with TensorFlow back-end.\n",
    "\n",
    "#### Network topology\n",
    "\n",
    "Network topology is dictated by data shape after PCA transformation. Some useful practices in setting hidden layer topology are:\n",
    "\n",
    "1. Use as many hidden nodes as dimensions (principal components) needed to capture 70-90% of the variance of the input data (70 in this case)\n",
    "2. hidden layer i should never be more than twice as large as the input layer."
   ]
  },
  {
   "cell_type": "code",
   "execution_count": 40,
   "metadata": {},
   "outputs": [],
   "source": [
    "input_size = X_scaled.shape[1]"
   ]
  },
  {
   "cell_type": "code",
   "execution_count": 41,
   "metadata": {},
   "outputs": [
    {
     "data": {
      "text/plain": [
       "174"
      ]
     },
     "execution_count": 41,
     "metadata": {},
     "output_type": "execute_result"
    }
   ],
   "source": [
    "2*input_size"
   ]
  },
  {
   "cell_type": "code",
   "execution_count": 42,
   "metadata": {},
   "outputs": [],
   "source": [
    "# create DNN using Keras Sequential API\n",
    "# I added Dropout to prevent overfitting\n",
    "from keras.models import Sequential\n",
    "from keras.layers import Dense, Dropout\n",
    "from keras.optimizers import SGD\n",
    "\n",
    "model = Sequential()\n",
    "model.add(Dense(176,input_dim=input_size,kernel_initializer=\"glorot_uniform\",activation=\"sigmoid\"))\n",
    "model.add(Dropout(0.5))\n",
    "model.add(Dense(176,kernel_initializer=\"glorot_uniform\",activation=\"sigmoid\"))\n",
    "model.add(Dropout(0.5))\n",
    "model.add(Dense(88,kernel_initializer=\"glorot_uniform\",activation=\"sigmoid\"))\n",
    "model.add(Dropout(0.5))\n",
    "model.add(Dense(len(languages_dict),kernel_initializer=\"glorot_uniform\",activation=\"softmax\"))\n",
    "model_optimizer = SGD(lr=0.01, decay=1e-6, momentum=0.9, nesterov=True)\n",
    "\n",
    "model.compile(loss='categorical_crossentropy',\n",
    "              optimizer=model_optimizer,\n",
    "              metrics=['accuracy'])"
   ]
  },
  {
   "cell_type": "code",
   "execution_count": 43,
   "metadata": {},
   "outputs": [],
   "source": [
    "# from keras.utils import plot_model\n",
    "# plot_model(model, to_file='model.png')"
   ]
  },
  {
   "cell_type": "code",
   "execution_count": 44,
   "metadata": {},
   "outputs": [
    {
     "name": "stdout",
     "output_type": "stream",
     "text": [
      "WARNING:tensorflow:Variable *= will be deprecated. Use variable.assign_mul if you want assignment to the variable value or 'x = x * y' if you want a new python Tensor object.\n",
      "Train on 10418 samples, validate on 1158 samples\n",
      "Epoch 1/12\n",
      " - 1s - loss: 1.0525 - acc: 0.4376 - val_loss: 0.9751 - val_acc: 0.4853\n",
      "Epoch 2/12\n",
      " - 1s - loss: 0.9944 - acc: 0.4641 - val_loss: 0.9737 - val_acc: 0.4033\n",
      "Epoch 3/12\n",
      " - 1s - loss: 0.9832 - acc: 0.4865 - val_loss: 0.9461 - val_acc: 0.7945\n",
      "Epoch 4/12\n",
      " - 1s - loss: 0.9510 - acc: 0.5373 - val_loss: 0.8497 - val_acc: 0.8307\n",
      "Epoch 5/12\n",
      " - 1s - loss: 0.7904 - acc: 0.6707 - val_loss: 0.4739 - val_acc: 0.8575\n",
      "Epoch 6/12\n",
      " - 1s - loss: 0.5177 - acc: 0.8050 - val_loss: 0.3211 - val_acc: 0.8584\n",
      "Epoch 7/12\n",
      " - 1s - loss: 0.4146 - acc: 0.8362 - val_loss: 0.2911 - val_acc: 0.8584\n",
      "Epoch 8/12\n",
      " - 1s - loss: 0.3766 - acc: 0.8482 - val_loss: 0.2606 - val_acc: 0.8739\n",
      "Epoch 9/12\n",
      " - 1s - loss: 0.3365 - acc: 0.8743 - val_loss: 0.2192 - val_acc: 0.9171\n",
      "Epoch 10/12\n",
      " - 1s - loss: 0.3133 - acc: 0.8851 - val_loss: 0.1969 - val_acc: 0.9335\n",
      "Epoch 11/12\n",
      " - 1s - loss: 0.2935 - acc: 0.8970 - val_loss: 0.1690 - val_acc: 0.9499\n",
      "Epoch 12/12\n",
      " - 1s - loss: 0.2579 - acc: 0.9115 - val_loss: 0.1469 - val_acc: 0.9646\n"
     ]
    }
   ],
   "source": [
    "# let's fit the data\n",
    "# history variable will help us to plot results later\n",
    "history = model.fit(X_train,y_train,\n",
    "          epochs=12,\n",
    "          validation_split=0.10,\n",
    "          batch_size=64,\n",
    "          verbose=2,\n",
    "          shuffle=True)"
   ]
  },
  {
   "cell_type": "markdown",
   "metadata": {},
   "source": [
    "### Model evaluation"
   ]
  },
  {
   "cell_type": "code",
   "execution_count": 45,
   "metadata": {},
   "outputs": [
    {
     "name": "stdout",
     "output_type": "stream",
     "text": [
      "2895/2895 [==============================] - 0s 55us/step\n",
      "acc: 96.03%\n"
     ]
    }
   ],
   "source": [
    "\n",
    "# What is our model real accuracy tested on unseen data?\n",
    "scores = model.evaluate(X_test, y_test, verbose=1)\n",
    "print(\"%s: %.2f%%\" % (model.metrics_names[1], scores[1]*100))"
   ]
  },
  {
   "cell_type": "code",
   "execution_count": 47,
   "metadata": {},
   "outputs": [],
   "source": [
    "from keras.utils import to_categorical\n",
    "# and now we will prepare data for scikit-learn classification report\n",
    "Y_pred = model.predict_classes(X_test)\n",
    "Y_pred = to_categorical(Y_pred, num_classes=len(languages_dict))"
   ]
  },
  {
   "cell_type": "code",
   "execution_count": 49,
   "metadata": {},
   "outputs": [
    {
     "name": "stdout",
     "output_type": "stream",
     "text": [
      "             precision    recall  f1-score   support\n",
      "\n",
      "    english       0.94      0.98      0.96      1172\n",
      "     french       0.99      0.98      0.98      1344\n",
      "     german       0.92      0.82      0.87       379\n",
      "\n",
      "avg / total       0.96      0.96      0.96      2895\n",
      "\n"
     ]
    }
   ],
   "source": [
    "# and run the report\n",
    "from sklearn.metrics import classification_report\n",
    "target_names =  list(languages_dict.keys())\n",
    "print(classification_report(y_test, Y_pred, target_names=target_names))"
   ]
  },
  {
   "cell_type": "code",
   "execution_count": 50,
   "metadata": {},
   "outputs": [
    {
     "data": {
      "image/png": "[encoded data removed]",
      "text/plain": [
       "<Figure size 432x288 with 1 Axes>"
      ]
     },
     "metadata": {},
     "output_type": "display_data"
    }
   ],
   "source": [
    "# show plot accuracy changes during training\n",
    "plt.plot(history.history['acc'],'g')\n",
    "plt.plot(history.history['val_acc'],'r')\n",
    "plt.title('accuracy across epochs')\n",
    "plt.ylabel('accuracy level')\n",
    "plt.xlabel('# epoch')\n",
    "plt.legend(['train', 'test'], loc='lower right')\n",
    "plt.show()"
   ]
  },
  {
   "cell_type": "code",
   "execution_count": 51,
   "metadata": {},
   "outputs": [
    {
     "data": {
      "image/png": "[encoded data removed]",
      "text/plain": [
       "<Figure size 432x288 with 1 Axes>"
      ]
     },
     "metadata": {},
     "output_type": "display_data"
    }
   ],
   "source": [
    "# show plot of loss changes during training\n",
    "plt.plot(history.history['loss'])\n",
    "plt.plot(history.history['val_loss'])\n",
    "plt.title('model loss')\n",
    "plt.ylabel('loss')\n",
    "plt.xlabel('epoch')\n",
    "plt.legend(['train', 'test'], loc='upper left')\n",
    "plt.show()"
   ]
  },
  {
   "cell_type": "code",
   "execution_count": null,
   "metadata": {},
   "outputs": [],
   "source": []
  },
  {
   "cell_type": "markdown",
   "metadata": {},
   "source": [
    "### Model tuning\n",
    "\n",
    "One of the element of fine tuning model may be selection of the optimization function. In previous iteration I have used Stochastic Gradient Descent. Lets try other:"
   ]
  },
  {
   "cell_type": "code",
   "execution_count": 52,
   "metadata": {},
   "outputs": [],
   "source": [
    "# create DNN using Keras Sequential API\n",
    "# I added Dropout to prevent overfitting\n",
    "from keras.models import Sequential\n",
    "from keras.layers import Dense, Dropout\n",
    "from keras.optimizers import Adam\n",
    "\n",
    "\n",
    "\n",
    "model = Sequential()\n",
    "model.add(Dense(176,input_dim=input_size,kernel_initializer=\"glorot_uniform\",activation=\"sigmoid\"))\n",
    "model.add(Dropout(0.5))\n",
    "model.add(Dense(176,kernel_initializer=\"glorot_uniform\",activation=\"sigmoid\"))\n",
    "model.add(Dropout(0.5))\n",
    "model.add(Dense(88,kernel_initializer=\"glorot_uniform\",activation=\"sigmoid\"))\n",
    "model.add(Dropout(0.5))\n",
    "model.add(Dense(len(languages_dict),kernel_initializer=\"glorot_uniform\",activation=\"softmax\"))\n",
    "model_optimizer = Adam(lr=0.001, beta_1=0.9, beta_2=0.999, epsilon=1e-08, decay=0.0)\n",
    "\n",
    "model.compile(loss='categorical_crossentropy',\n",
    "              optimizer=model_optimizer,\n",
    "              metrics=['accuracy'])"
   ]
  },
  {
   "cell_type": "code",
   "execution_count": 53,
   "metadata": {},
   "outputs": [
    {
     "name": "stdout",
     "output_type": "stream",
     "text": [
      "Train on 10418 samples, validate on 1158 samples\n",
      "Epoch 1/12\n",
      " - 1s - loss: 0.6481 - acc: 0.7196 - val_loss: 0.1317 - val_acc: 0.9689\n",
      "Epoch 2/12\n",
      " - 1s - loss: 0.1609 - acc: 0.9585 - val_loss: 0.0909 - val_acc: 0.9758\n",
      "Epoch 3/12\n",
      " - 1s - loss: 0.1358 - acc: 0.9654 - val_loss: 0.0873 - val_acc: 0.9750\n",
      "Epoch 4/12\n",
      " - 1s - loss: 0.1254 - acc: 0.9654 - val_loss: 0.0851 - val_acc: 0.9724\n",
      "Epoch 5/12\n",
      " - 1s - loss: 0.1133 - acc: 0.9677 - val_loss: 0.0807 - val_acc: 0.9724\n",
      "Epoch 6/12\n",
      " - 1s - loss: 0.1098 - acc: 0.9661 - val_loss: 0.0787 - val_acc: 0.9724\n",
      "Epoch 7/12\n",
      " - 1s - loss: 0.1038 - acc: 0.9680 - val_loss: 0.0778 - val_acc: 0.9706\n",
      "Epoch 8/12\n",
      " - 1s - loss: 0.0972 - acc: 0.9671 - val_loss: 0.0747 - val_acc: 0.9741\n",
      "Epoch 9/12\n",
      " - 1s - loss: 0.0923 - acc: 0.9686 - val_loss: 0.0751 - val_acc: 0.9750\n",
      "Epoch 10/12\n",
      " - 1s - loss: 0.0915 - acc: 0.9676 - val_loss: 0.0718 - val_acc: 0.9706\n",
      "Epoch 11/12\n",
      " - 1s - loss: 0.0829 - acc: 0.9697 - val_loss: 0.0715 - val_acc: 0.9715\n",
      "Epoch 12/12\n",
      " - 1s - loss: 0.0809 - acc: 0.9696 - val_loss: 0.0699 - val_acc: 0.9724\n"
     ]
    }
   ],
   "source": [
    "# let's fit the data\n",
    "# history variable will help us to plot results later\n",
    "history = model.fit(X_train,y_train,\n",
    "          epochs=12,\n",
    "          validation_split=0.10,\n",
    "          batch_size=64,\n",
    "          verbose=2,\n",
    "          shuffle=True)"
   ]
  },
  {
   "cell_type": "code",
   "execution_count": null,
   "metadata": {},
   "outputs": [],
   "source": []
  },
  {
   "cell_type": "code",
   "execution_count": 54,
   "metadata": {},
   "outputs": [
    {
     "name": "stdout",
     "output_type": "stream",
     "text": [
      "2895/2895 [==============================] - 0s 50us/step\n",
      "acc: 97.55%\n"
     ]
    }
   ],
   "source": [
    "\n",
    "# What is our model real accuracy tested on unseen data?\n",
    "scores = model.evaluate(X_test, y_test, verbose=1)\n",
    "print(\"%s: %.2f%%\" % (model.metrics_names[1], scores[1]*100))"
   ]
  },
  {
   "cell_type": "code",
   "execution_count": 56,
   "metadata": {},
   "outputs": [],
   "source": [
    "\n",
    "# and now we will prepare data for scikit-learn classification report\n",
    "Y_pred = model.predict_classes(X_test)\n",
    "Y_pred = to_categorical(Y_pred, num_classes=len(languages_dict))"
   ]
  },
  {
   "cell_type": "code",
   "execution_count": 57,
   "metadata": {},
   "outputs": [
    {
     "name": "stdout",
     "output_type": "stream",
     "text": [
      "             precision    recall  f1-score   support\n",
      "\n",
      "    english       0.98      0.98      0.98      1172\n",
      "     french       0.99      0.99      0.99      1344\n",
      "     german       0.94      0.94      0.94       379\n",
      "\n",
      "avg / total       0.98      0.98      0.98      2895\n",
      "\n"
     ]
    }
   ],
   "source": [
    "# and run the report\n",
    "target_names =  list(languages_dict.keys())\n",
    "print(classification_report(y_test, Y_pred, target_names=target_names))"
   ]
  },
  {
   "cell_type": "code",
   "execution_count": 58,
   "metadata": {},
   "outputs": [
    {
     "data": {
      "image/png": "[encoded data removed]",
      "text/plain": [
       "<Figure size 432x288 with 1 Axes>"
      ]
     },
     "metadata": {},
     "output_type": "display_data"
    }
   ],
   "source": [
    "# show plot accuracy changes during training\n",
    "plt.plot(history.history['acc'],'g')\n",
    "plt.plot(history.history['val_acc'],'r')\n",
    "plt.title('accuracy across epochs')\n",
    "plt.ylabel('accuracy level')\n",
    "plt.xlabel('# epoch')\n",
    "plt.legend(['train', 'test'], loc='lower right')\n",
    "plt.show()"
   ]
  },
  {
   "cell_type": "code",
   "execution_count": 59,
   "metadata": {},
   "outputs": [
    {
     "data": {
      "image/png": "[encoded data removed]",
      "text/plain": [
       "<Figure size 432x288 with 1 Axes>"
      ]
     },
     "metadata": {},
     "output_type": "display_data"
    }
   ],
   "source": [
    "# show plot of loss changes during training\n",
    "plt.plot(history.history['loss'])\n",
    "plt.plot(history.history['val_loss'])\n",
    "plt.title('model loss')\n",
    "plt.ylabel('loss')\n",
    "plt.xlabel('epoch')\n",
    "plt.legend(['train', 'test'], loc='upper left')\n",
    "plt.show()"
   ]
  },
  {
   "cell_type": "markdown",
   "metadata": {},
   "source": [
    "### Deployment"
   ]
  },
  {
   "cell_type": "code",
   "execution_count": 60,
   "metadata": {},
   "outputs": [],
   "source": [
    "model_json = model.to_json()\n",
    "with open(\"model.json\", \"w\") as json_file:\n",
    "    json_file.write(model_json)\n",
    "# serialize weights to HDF5\n",
    "model.save_weights(\"model.h5\")"
   ]
  },
  {
   "cell_type": "markdown",
   "metadata": {},
   "source": [
    "# Conclusions\n",
    "DNN performed slightly better, than stop words analysis. Bad performance of the DNN migh be connected to smaller batch of German data set, which was few times smaller, than French or English. Changing data source migh increase accuracy to 98-99%"
   ]
  },
  {
   "cell_type": "code",
   "execution_count": null,
   "metadata": {},
   "outputs": [],
   "source": []
  }
 ],
 "metadata": {
  "kernelspec": {
   "display_name": "Python 3",
   "language": "python",
   "name": "python3"
  },
  "language_info": {
   "codemirror_mode": {
    "name": "ipython",
    "version": 3
   },
   "file_extension": ".py",
   "mimetype": "text/x-python",
   "name": "python",
   "nbconvert_exporter": "python",
   "pygments_lexer": "ipython3",
   "version": "3.6.5"
  }
 },
 "nbformat": 4,
 "nbformat_minor": 2
}
