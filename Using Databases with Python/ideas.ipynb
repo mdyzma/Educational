{
 "cells": [
  {
   "cell_type": "code",
   "execution_count": 1,
   "metadata": {},
   "outputs": [],
   "source": [
    "import sqlite3 as sqlite"
   ]
  },
  {
   "cell_type": "code",
   "execution_count": 2,
   "metadata": {},
   "outputs": [
    {
     "data": {
      "text/plain": [
       "<sqlite3.Cursor at 0x3bf0c00>"
      ]
     },
     "execution_count": 2,
     "metadata": {},
     "output_type": "execute_result"
    }
   ],
   "source": [
    "conn = sqlite.connect('emaildb.sqlite')\n",
    "cur = conn.cursor()\n",
    "\n",
    "cur.execute('''\n",
    "DROP TABLE IF EXISTS Counts''')\n",
    "\n",
    "cur.execute('''\n",
    "CREATE TABLE Counts (org TEXT, count INTEGER)''')"
   ]
  },
  {
   "cell_type": "code",
   "execution_count": 8,
   "metadata": {},
   "outputs": [],
   "source": [
    "def get_email(fhandler):\n",
    "    for line in fhandler:\n",
    "        if not line.startswith('From: ') : continue\n",
    "        pieces = line.split()\n",
    "        return pieces[1]"
   ]
  },
  {
   "cell_type": "code",
   "execution_count": 9,
   "metadata": {},
   "outputs": [],
   "source": [
    "fname = 'mbox.txt'\n",
    "fh = open(fname)"
   ]
  },
  {
   "cell_type": "code",
   "execution_count": 10,
   "metadata": {},
   "outputs": [],
   "source": [
    "emails = []\n",
    "\n",
    "for line in fh:\n",
    "    emails.append(get_email(fh))"
   ]
  },
  {
   "cell_type": "code",
   "execution_count": 24,
   "metadata": {},
   "outputs": [],
   "source": [
    "emails.pop()"
   ]
  },
  {
   "cell_type": "code",
   "execution_count": 31,
   "metadata": {},
   "outputs": [
    {
     "data": {
      "text/plain": [
       "1797"
      ]
     },
     "execution_count": 31,
     "metadata": {},
     "output_type": "execute_result"
    }
   ],
   "source": [
    "len(emails)"
   ]
  },
  {
   "cell_type": "code",
   "execution_count": 33,
   "metadata": {},
   "outputs": [],
   "source": [
    "orgs =[]\n",
    "\n",
    "for i in emails:\n",
    "    orgs.append(i.split('@')[1])\n"
   ]
  },
  {
   "cell_type": "code",
   "execution_count": 35,
   "metadata": {},
   "outputs": [
    {
     "data": {
      "text/plain": [
       "{'bu.edu',\n",
       " 'caret.cam.ac.uk',\n",
       " 'et.gatech.edu',\n",
       " 'fhda.edu',\n",
       " 'gmail.com',\n",
       " 'indiana.edu',\n",
       " 'iupui.edu',\n",
       " 'lancaster.ac.uk',\n",
       " 'loi.nl',\n",
       " 'media.berkeley.edu',\n",
       " 'rsmart.com',\n",
       " 'stanford.edu',\n",
       " 'txstate.edu',\n",
       " 'ucdavis.edu',\n",
       " 'uct.ac.za',\n",
       " 'ufp.pt',\n",
       " 'umich.edu',\n",
       " 'unicon.net',\n",
       " 'utoronto.ca',\n",
       " 'vt.edu',\n",
       " 'whitman.edu'}"
      ]
     },
     "execution_count": 35,
     "metadata": {},
     "output_type": "execute_result"
    }
   ],
   "source": [
    "unique = set(orgs);unique"
   ]
  },
  {
   "cell_type": "code",
   "execution_count": 36,
   "metadata": {},
   "outputs": [
    {
     "data": {
      "text/plain": [
       "21"
      ]
     },
     "execution_count": 36,
     "metadata": {},
     "output_type": "execute_result"
    }
   ],
   "source": [
    "len(unique)"
   ]
  },
  {
   "cell_type": "code",
   "execution_count": 37,
   "metadata": {},
   "outputs": [],
   "source": [
    "from collections import defaultdict\n",
    "d = {x:i.count(x) for x in i}"
   ]
  },
  {
   "cell_type": "code",
   "execution_count": 38,
   "metadata": {},
   "outputs": [],
   "source": [
    "d = {x:orgs.count(x) for x in orgs}"
   ]
  },
  {
   "cell_type": "code",
   "execution_count": 39,
   "metadata": {},
   "outputs": [
    {
     "data": {
      "text/plain": [
       "{'bu.edu': 14,\n",
       " 'caret.cam.ac.uk': 157,\n",
       " 'et.gatech.edu': 17,\n",
       " 'fhda.edu': 1,\n",
       " 'gmail.com': 25,\n",
       " 'indiana.edu': 178,\n",
       " 'iupui.edu': 536,\n",
       " 'lancaster.ac.uk': 14,\n",
       " 'loi.nl': 9,\n",
       " 'media.berkeley.edu': 56,\n",
       " 'rsmart.com': 8,\n",
       " 'stanford.edu': 12,\n",
       " 'txstate.edu': 17,\n",
       " 'ucdavis.edu': 1,\n",
       " 'uct.ac.za': 96,\n",
       " 'ufp.pt': 28,\n",
       " 'umich.edu': 491,\n",
       " 'unicon.net': 9,\n",
       " 'utoronto.ca': 1,\n",
       " 'vt.edu': 110,\n",
       " 'whitman.edu': 17}"
      ]
     },
     "execution_count": 39,
     "metadata": {},
     "output_type": "execute_result"
    }
   ],
   "source": [
    "d"
   ]
  },
  {
   "cell_type": "code",
   "execution_count": 45,
   "metadata": {},
   "outputs": [
    {
     "data": {
      "text/plain": [
       "[('txstate.edu', 17),\n",
       " ('media.berkeley.edu', 56),\n",
       " ('vt.edu', 110),\n",
       " ('whitman.edu', 17),\n",
       " ('lancaster.ac.uk', 14),\n",
       " ('rsmart.com', 8),\n",
       " ('fhda.edu', 1),\n",
       " ('uct.ac.za', 96),\n",
       " ('unicon.net', 9),\n",
       " ('utoronto.ca', 1),\n",
       " ('loi.nl', 9),\n",
       " ('indiana.edu', 178),\n",
       " ('et.gatech.edu', 17),\n",
       " ('umich.edu', 491),\n",
       " ('gmail.com', 25),\n",
       " ('ucdavis.edu', 1),\n",
       " ('stanford.edu', 12),\n",
       " ('bu.edu', 14),\n",
       " ('caret.cam.ac.uk', 157),\n",
       " ('ufp.pt', 28),\n",
       " ('iupui.edu', 536)]"
      ]
     },
     "execution_count": 45,
     "metadata": {},
     "output_type": "execute_result"
    }
   ],
   "source": [
    "rows = []\n",
    "for key, val in d.items():\n",
    "    rows.append((key, val))\n",
    "rows"
   ]
  },
  {
   "cell_type": "code",
   "execution_count": 48,
   "metadata": {},
   "outputs": [],
   "source": [
    "for row in rows:\n",
    "    conn.execute(\"INSERT INTO Counts VALUES (?,?)\", row)"
   ]
  },
  {
   "cell_type": "code",
   "execution_count": 49,
   "metadata": {},
   "outputs": [],
   "source": [
    "conn.commit()"
   ]
  },
  {
   "cell_type": "code",
   "execution_count": 50,
   "metadata": {},
   "outputs": [],
   "source": [
    "sqlstr = 'SELECT org, count FROM Counts ORDER BY count DESC LIMIT 10'"
   ]
  },
  {
   "cell_type": "code",
   "execution_count": 51,
   "metadata": {},
   "outputs": [
    {
     "name": "stdout",
     "output_type": "stream",
     "text": [
      "iupui.edu 536\n",
      "umich.edu 491\n",
      "indiana.edu 178\n",
      "caret.cam.ac.uk 157\n",
      "vt.edu 110\n",
      "uct.ac.za 96\n",
      "media.berkeley.edu 56\n",
      "ufp.pt 28\n",
      "gmail.com 25\n",
      "txstate.edu 17\n"
     ]
    }
   ],
   "source": [
    "for row in cur.execute(sqlstr):\n",
    "    print str(row[0]), row[1]"
   ]
  },
  {
   "cell_type": "code",
   "execution_count": null,
   "metadata": {},
   "outputs": [],
   "source": []
  }
 ],
 "metadata": {
  "kernelspec": {
   "display_name": "Python [default]",
   "language": "python",
   "name": "python2"
  },
  "language_info": {
   "codemirror_mode": {
    "name": "ipython",
    "version": 2
   },
   "file_extension": ".py",
   "mimetype": "text/x-python",
   "name": "python",
   "nbconvert_exporter": "python",
   "pygments_lexer": "ipython2",
   "version": "2.7.12"
  }
 },
 "nbformat": 4,
 "nbformat_minor": 1
}
